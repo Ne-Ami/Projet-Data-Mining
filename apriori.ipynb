{
 "cells": [
  {
   "cell_type": "code",
   "execution_count": 1,
   "id": "93097f6b-08d4-4458-8440-0d9a36150056",
   "metadata": {},
   "outputs": [],
   "source": [
    "import pandas as pd\n",
    "from mlxtend.preprocessing import TransactionEncoder\n",
    "from mlxtend.frequent_patterns import apriori, association_rules\n",
    "import time"
   ]
  },
  {
   "cell_type": "code",
   "execution_count": 2,
   "id": "04dfc7d6-6c18-42fa-be27-83608d4cb6e5",
   "metadata": {},
   "outputs": [],
   "source": [
    "# Chargement des données depuis le fichier CSV avec l'encodage approprié\n",
    "data = pd.read_csv('ecommerce-data/data.csv', encoding='ISO-8859-1')"
   ]
  },
  {
   "cell_type": "code",
   "execution_count": 3,
   "id": "e2ec660c-abb6-4d09-aa72-62842e930ee0",
   "metadata": {},
   "outputs": [
    {
     "name": "stdout",
     "output_type": "stream",
     "text": [
      "Dimensions du jeu de données :  (541909, 9)\n"
     ]
    }
   ],
   "source": [
    "# Calcul de la colonne 'GroupPrice'\n",
    "data['GroupPrice'] = data['Quantity'] * data['UnitPrice']\n",
    "\n",
    "# Affichage des dimensions du jeu de données\n",
    "print('Dimensions du jeu de données : ', data.shape)"
   ]
  },
  {
   "cell_type": "code",
   "execution_count": 4,
   "id": "6fc41ec6-0756-48b7-a087-3289faa7d981",
   "metadata": {},
   "outputs": [
    {
     "name": "stdout",
     "output_type": "stream",
     "text": [
      "Les nouvelles dimensions après la suppression des valeurs manquantes : (406829, 9)\n",
      "---------\n",
      "  InvoiceNo StockCode                          Description  Quantity  \\\n",
      "0    536365    85123A   WHITE HANGING HEART T-LIGHT HOLDER         6   \n",
      "1    536365     71053                  WHITE METAL LANTERN         6   \n",
      "2    536365    84406B       CREAM CUPID HEARTS COAT HANGER         8   \n",
      "3    536365    84029G  KNITTED UNION FLAG HOT WATER BOTTLE         6   \n",
      "4    536365    84029E       RED WOOLLY HOTTIE WHITE HEART.         6   \n",
      "\n",
      "      InvoiceDate  UnitPrice  CustomerID         Country  GroupPrice  \n",
      "0  12/1/2010 8:26       2.55     17850.0  United Kingdom       15.30  \n",
      "1  12/1/2010 8:26       3.39     17850.0  United Kingdom       20.34  \n",
      "2  12/1/2010 8:26       2.75     17850.0  United Kingdom       22.00  \n",
      "3  12/1/2010 8:26       3.39     17850.0  United Kingdom       20.34  \n",
      "4  12/1/2010 8:26       3.39     17850.0  United Kingdom       20.34  \n"
     ]
    }
   ],
   "source": [
    "# Suppression des lignes contenant des valeurs manquantes\n",
    "data = data.dropna()\n",
    "\n",
    "# Affichage des nouvelles dimensions après la suppression des valeurs manquantes\n",
    "print('Les nouvelles dimensions après la suppression des valeurs manquantes :', data.shape)\n",
    "print('---------')\n",
    "print(data.head())"
   ]
  },
  {
   "cell_type": "code",
   "execution_count": 5,
   "id": "9d20ca02-2f87-4aeb-aa70-ed3ea9d474ab",
   "metadata": {},
   "outputs": [],
   "source": [
    "# Liste des codes de stock uniques\n",
    "liste = data['StockCode'].unique() \n",
    "\n",
    "# Création d'une liste de codes de stock à supprimer\n",
    "stock_to_del = []\n",
    "for el in liste:\n",
    "    # Supprimer les produits correspondant à des cadeaux (codes de stock qui ne commencent pas par un chiffre)\n",
    "    if el[0] not in ['1','2','3','4','5','6','7','8','9','10']:\n",
    "        stock_to_del.append(el)\n",
    "\n",
    "# Suppression des produits indésirables du jeu de données\n",
    "data = data[data['StockCode'].map(lambda x: x not in stock_to_del)]"
   ]
  },
  {
   "cell_type": "code",
   "execution_count": 6,
   "id": "f4372fd0-e731-439b-9a7f-074842425f8c",
   "metadata": {},
   "outputs": [
    {
     "name": "stdout",
     "output_type": "stream",
     "text": [
      "Dimension du nouveau jeu de données regroupé : (21788, 3)\n",
      "----------\n",
      "  InvoiceNo  CustomerID                                      StockCodeList\n",
      "0    536365     17850.0  [85123A, 71053, 84406B, 84029G, 84029E, 22752,...\n",
      "1    536366     17850.0                                     [22633, 22632]\n",
      "2    536367     13047.0  [84879, 22745, 22748, 22749, 22310, 84969, 226...\n",
      "3    536368     13047.0                       [22960, 22913, 22912, 22914]\n",
      "4    536369     13047.0                                            [21756]\n"
     ]
    }
   ],
   "source": [
    "# Grouper les produits par facture et client\n",
    "basket = data.groupby(['InvoiceNo', 'CustomerID'])['StockCode'].apply(list).reset_index(name='StockCodeList')\n",
    "\n",
    "# Affichage des dimensions du nouveau jeu de données regroupé\n",
    "print('Dimension du nouveau jeu de données regroupé :', basket.shape)\n",
    "print('----------')\n",
    "print(basket.head())"
   ]
  },
  {
   "cell_type": "code",
   "execution_count": 7,
   "id": "ed31cdd8-a64d-4477-8d21-8b8f25a56598",
   "metadata": {},
   "outputs": [],
   "source": [
    "# Convertir le format pour l'Apriori\n",
    "te = TransactionEncoder()\n",
    "basket_encoded = te.fit_transform(basket['StockCodeList'].apply(lambda x: [str(i) for i in x]))"
   ]
  },
  {
   "cell_type": "code",
   "execution_count": 8,
   "id": "f657d81d-ebca-4ca3-a7a8-b3ba7bbfd2e0",
   "metadata": {},
   "outputs": [],
   "source": [
    "# Convertir en DataFrame\n",
    "basket_df = pd.DataFrame(basket_encoded, columns=te.columns_)"
   ]
  },
  {
   "cell_type": "code",
   "execution_count": 9,
   "id": "01280be4-2553-4b55-afe4-536b11a2d7b4",
   "metadata": {},
   "outputs": [],
   "source": [
    "# Appliquer l'algorithme Apriori avec le support minimal et la confiance minimale spécifiés\n",
    "min_support_threshold = 0.005\n",
    "min_confidence_threshold = 0.5"
   ]
  },
  {
   "cell_type": "code",
   "execution_count": 10,
   "id": "c26aae44-8b0f-448a-8bf8-57467bd753ea",
   "metadata": {},
   "outputs": [
    {
     "name": "stdout",
     "output_type": "stream",
     "text": [
      "Temps d'exécution en secondes :  1086.1489026546478 s.\n"
     ]
    }
   ],
   "source": [
    "# Mesure du temps d'exécution\n",
    "a = time.time()\n",
    "\n",
    "# Application de l'algorithme apriori pour extraire les fréquent items sets et les règles d'association\n",
    "frequent_itemsets_apriori = apriori(basket_df, min_support=min_support_threshold, use_colnames=True)\n",
    "\n",
    "# Mesure du temps d'exécution\n",
    "b = time.time()\n",
    "\n",
    "# Affichage du temps d'exécution en secondes\n",
    "print(\"Temps d'exécution en secondes : \", b - a, 's.')"
   ]
  },
  {
   "cell_type": "code",
   "execution_count": 11,
   "id": "f10bb82c-d738-4ab2-918c-ee5a2ea4de93",
   "metadata": {},
   "outputs": [],
   "source": [
    "# Générer les règles d'association avec la confiance minimale\n",
    "rules_apriori = association_rules(frequent_itemsets_apriori, metric=\"confidence\", min_threshold=min_confidence_threshold)"
   ]
  },
  {
   "cell_type": "code",
   "execution_count": 12,
   "id": "d80c81ff-4b38-4789-b339-0db9a66d0337",
   "metadata": {},
   "outputs": [
    {
     "name": "stdout",
     "output_type": "stream",
     "text": [
      "Les ensembles fréquents de trouvé par Apriori:\n",
      "       support                                    itemsets\n",
      "0     0.005645                                     (10133)\n",
      "1     0.005416                                     (10135)\n",
      "2     0.015054                                     (15036)\n",
      "3     0.013585                                   (15056BL)\n",
      "4     0.017624                                    (15056N)\n",
      "...        ...                                         ...\n",
      "3159  0.006334         (22920, 22916, 22918, 22921, 22917)\n",
      "3160  0.006150         (22920, 22919, 22916, 22921, 22917)\n",
      "3161  0.006196         (22920, 22919, 22916, 22918, 22921)\n",
      "3162  0.006196         (22920, 22919, 22918, 22921, 22917)\n",
      "3163  0.006104  (22920, 22919, 22916, 22918, 22921, 22917)\n",
      "\n",
      "[3164 rows x 2 columns]\n"
     ]
    }
   ],
   "source": [
    "# Afficher les ensembles fréquents de l'Apriori\n",
    "print('Les ensembles fréquents de trouvé par Apriori:')\n",
    "print(frequent_itemsets_apriori)"
   ]
  },
  {
   "cell_type": "code",
   "execution_count": null,
   "id": "ec4b830f-8a0d-4dc8-b338-ace02df81564",
   "metadata": {},
   "outputs": [],
   "source": []
  },
  {
   "cell_type": "code",
   "execution_count": 13,
   "id": "1f7e2b86-9422-459f-9339-617e674a4f25",
   "metadata": {},
   "outputs": [],
   "source": [
    "# Appliquer l'algorithme Apriori avec des paramètres de support minimal = 0.01 et confiance minimal = 0.8\n",
    "min_support_threshold = 0.01\n",
    "min_confidence_threshold = 0.8"
   ]
  },
  {
   "cell_type": "code",
   "execution_count": null,
   "id": "16a1472e-186c-4daf-8663-fa74dac18f3d",
   "metadata": {},
   "outputs": [],
   "source": []
  },
  {
   "cell_type": "code",
   "execution_count": 14,
   "id": "aca30f1b-18e5-46c8-ac54-29bcfe068553",
   "metadata": {},
   "outputs": [
    {
     "name": "stdout",
     "output_type": "stream",
     "text": [
      "Temps d'exécution en secondes :  77.07467651367188 s.\n"
     ]
    }
   ],
   "source": [
    "# Mesure du temps d'exécution\n",
    "a = time.time()\n",
    "\n",
    "frequent_itemsets_apriori = apriori(basket_df, min_support=min_support_threshold, use_colnames=True)\n",
    "\n",
    "\n",
    "# Mesure du temps d'exécution\n",
    "b = time.time()\n",
    "\n",
    "# Affichage du temps d'exécution en secondes\n",
    "print(\"Temps d'exécution en secondes : \", b - a, 's.')"
   ]
  },
  {
   "cell_type": "code",
   "execution_count": 15,
   "id": "956ccab7-927b-4795-b600-3f5b56c67d84",
   "metadata": {},
   "outputs": [],
   "source": [
    "# Générer les règles d'association avec la confiance minimale\n",
    "rules_apriori = association_rules(frequent_itemsets_apriori, metric=\"confidence\", min_threshold=min_confidence_threshold)"
   ]
  },
  {
   "cell_type": "code",
   "execution_count": 17,
   "id": "8b6597b5-13b6-495a-8e1f-3180c26c2322",
   "metadata": {},
   "outputs": [
    {
     "name": "stdout",
     "output_type": "stream",
     "text": [
      "Les  10  premières règles d'association:\n",
      "             antecedents consequents   support  confidence\n",
      "8  (22699, 22698, 22423)     (22697)  0.011061    0.889299\n",
      "6         (22699, 22698)     (22697)  0.018221    0.880266\n",
      "9  (22423, 22698, 22697)     (22699)  0.011061    0.879562\n",
      "3         (22698, 22423)     (22697)  0.012576    0.858934\n",
      "5         (22698, 22423)     (22699)  0.012438    0.849530\n",
      "2                (23171)     (23170)  0.010648    0.843636\n",
      "7         (22698, 22697)     (22699)  0.018221    0.842887\n",
      "0                (21086)     (21094)  0.010832    0.828070\n",
      "4         (22423, 22697)     (22699)  0.014503    0.825065\n",
      "1                (22579)     (22578)  0.010419    0.819495\n"
     ]
    }
   ],
   "source": [
    "# Afficher les règles d'association avec le support 0.01 et la confiance 0.8\n",
    "rules_apriori_with_metrics = rules_apriori[['antecedents', 'consequents', 'support', 'confidence']]\n",
    "print(\"Les \", len(rules_apriori_with_metrics), \" premières règles d'association:\")\n",
    "print(rules_apriori_with_metrics.sort_values(by='confidence', ascending=False))"
   ]
  },
  {
   "cell_type": "code",
   "execution_count": null,
   "id": "4dab2cec-e534-4770-aad9-c88769d71806",
   "metadata": {},
   "outputs": [],
   "source": []
  }
 ],
 "metadata": {
  "kernelspec": {
   "display_name": "Python 3 (ipykernel)",
   "language": "python",
   "name": "python3"
  },
  "language_info": {
   "codemirror_mode": {
    "name": "ipython",
    "version": 3
   },
   "file_extension": ".py",
   "mimetype": "text/x-python",
   "name": "python",
   "nbconvert_exporter": "python",
   "pygments_lexer": "ipython3",
   "version": "3.11.5"
  }
 },
 "nbformat": 4,
 "nbformat_minor": 5
}
